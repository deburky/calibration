{
 "cells": [
  {
   "cell_type": "markdown",
   "metadata": {},
   "source": [
    "# <center> <span style=\"font-family: Virgil GS, sans-serif; color:#97f788\">Neural Networks</span> </center>\n",
    "## <center> <span style=\"font-family: Virgil GS, sans-serif; color:navyblue\">RNN for transactions (PD)</span> </center>\n",
    "\n",
    " <span style=\"font-family: Virgil GS, sans-serif; color:navyblue\">Author: <a href=\"https://github.com/deburky\" title=\"GitHub link\">https://github.com/deburky</a></span>"
   ]
  },
  {
   "cell_type": "markdown",
   "metadata": {},
   "source": [
    "## Transactions"
   ]
  },
  {
   "cell_type": "code",
   "execution_count": 18,
   "metadata": {},
   "outputs": [
    {
     "name": "stderr",
     "output_type": "stream",
     "text": [
      "/var/folders/k_/yz8rvp25185_js60dw8vhnj40000gn/T/ipykernel_6255/1038749579.py:11: DtypeWarning: Columns (8) have mixed types. Specify dtype option on import or set low_memory=False.\n",
      "  dataset_trans = pd.read_csv(f\"{dataset_path}/trans.csv\")\n"
     ]
    }
   ],
   "source": [
    "# sourcery skip: remove-redundant-fstring\n",
    "import pandas as pd\n",
    "import numpy as np\n",
    "\n",
    "# https://data.world/lpetrocelli/czech-financial-dataset-real-anonymized-transactions\n",
    "dataset_path = (\n",
    "    f\"/Users/deburky/Documents/python/data/\"\n",
    "    f\"lpetrocelli-czech-financial-dataset-real-anonymized-transactions/data\"\n",
    ")\n",
    "\n",
    "dataset_trans = pd.read_csv(f\"{dataset_path}/trans.csv\")\n",
    "\n",
    "dict_to_rename = {\n",
    "    \"VYDAJ\": \"EXPENSE\",\n",
    "    \"PRIJEM\": \"INCOME\",\n",
    "    \"VYBER\": \"WITHDRAWAL\",\n",
    "    \"VYBER KARTOU\": \"CARD_WITHDRAWAL\",\n",
    "    \"PREVOD NA UCET\": \"TRANSFER_TO_ACCOUNT\",\n",
    "    \"PREVOD Z UCTU\": \"TRANSFER_FROM_ACCOUNT\",\n",
    "    \"VKLAD\": \"DEPOSIT\",\n",
    "}\n",
    "\n",
    "dataset_trans[\"type\"] = dataset_trans[\"type\"].map(\n",
    "    dict_to_rename\n",
    ")\n",
    "dataset_trans[\"operation\"] = dataset_trans[\"operation\"].map(\n",
    "    dict_to_rename\n",
    ")\n",
    "dataset_trans[\"operation\"] = np.where(\n",
    "    dataset_trans[\"operation\"].isna(),\n",
    "    \"TRANSFER_TO_ACCOUNT\",\n",
    "    dataset_trans[\"operation\"],\n",
    ")\n",
    "\n",
    "# convert date lookin like 930101 to 1993-01-01\n",
    "def convert_date(date):\n",
    "    date = str(date)\n",
    "    year = int(f\"19{date[:2]}\")\n",
    "    month = int(date[2:4])\n",
    "    day = int(date[4:])\n",
    "    return pd.Timestamp(year=year, month=month, day=day)\n",
    "\n",
    "\n",
    "dataset_trans[\"date\"] = dataset_trans[\"date\"].apply(\n",
    "    convert_date\n",
    ")\n",
    "\n",
    "dataset_trans[\"amount\"] = np.where(\n",
    "    dataset_trans[\"type\"] == \"EXPENSE\",\n",
    "    -dataset_trans[\"amount\"],\n",
    "    dataset_trans[\"amount\"],\n",
    ")\n",
    "\n",
    "dataset_trans[\"amount_to_balance\"] = (\n",
    "    abs(dataset_trans[\"amount\"]) / dataset_trans[\"balance\"]\n",
    ")\n",
    "dataset_trans[\"amount_balance_interaction\"] = (\n",
    "    dataset_trans[\"amount\"] * dataset_trans[\"balance\"]\n",
    ")\n",
    "\n",
    "dataset_trans.drop(\n",
    "    columns=[\"k_symbol\", \"bank\", \"account\"], inplace=True\n",
    ")"
   ]
  },
  {
   "cell_type": "code",
   "execution_count": 2,
   "metadata": {},
   "outputs": [],
   "source": [
    "# remove rows with account_id having less than a series of 10 transactions\n",
    "dataset_trans_trx = dataset_trans.groupby(\n",
    "    \"account_id\"\n",
    ").filter(lambda x: len(x) > 10)"
   ]
  },
  {
   "cell_type": "markdown",
   "metadata": {},
   "source": [
    "## Labels"
   ]
  },
  {
   "cell_type": "code",
   "execution_count": 3,
   "metadata": {},
   "outputs": [
    {
     "name": "stderr",
     "output_type": "stream",
     "text": [
      "/var/folders/k_/yz8rvp25185_js60dw8vhnj40000gn/T/ipykernel_6255/1079541685.py:12: SettingWithCopyWarning: \n",
      "A value is trying to be set on a copy of a slice from a DataFrame.\n",
      "Try using .loc[row_indexer,col_indexer] = value instead\n",
      "\n",
      "See the caveats in the documentation: https://pandas.pydata.org/pandas-docs/stable/user_guide/indexing.html#returning-a-view-versus-a-copy\n",
      "  defaults[\"date\"] = defaults[\"date\"].apply(convert_date)\n"
     ]
    }
   ],
   "source": [
    "dataset_default = pd.read_csv(f\"{dataset_path}/loan.csv\")\n",
    "\n",
    "bad_labels = [\"B\", \"D\"]\n",
    "\n",
    "dataset_default[\"default_label\"] = np.where(\n",
    "    dataset_default[\"status\"].isin(bad_labels), 1, 0\n",
    ")\n",
    "\n",
    "defaults = dataset_default.query(\"default_label == 1\")\n",
    "\n",
    "# convert date to datetime\n",
    "defaults[\"date\"] = defaults[\"date\"].apply(convert_date)"
   ]
  },
  {
   "cell_type": "code",
   "execution_count": 4,
   "metadata": {},
   "outputs": [
    {
     "name": "stdout",
     "output_type": "stream",
     "text": [
      "Default rate: 11.14%\n"
     ]
    }
   ],
   "source": [
    "default_rate = dataset_default[\"default_label\"].mean()\n",
    "print(f\"Default rate: {default_rate:.2%}\")"
   ]
  },
  {
   "cell_type": "markdown",
   "metadata": {},
   "source": [
    "## Training data"
   ]
  },
  {
   "cell_type": "code",
   "execution_count": 5,
   "metadata": {},
   "outputs": [],
   "source": [
    "# please keep only account_id in dataset_trans which is present in dataset_default\n",
    "list_of_ids = dataset_default[\"account_id\"].unique()\n",
    "dataset_trans_filtered = dataset_trans_trx[\n",
    "    dataset_trans_trx[\"account_id\"].isin(list_of_ids)\n",
    "]\n",
    "\n",
    "training_data = pd.merge_asof(\n",
    "    dataset_trans_filtered,\n",
    "    defaults[[\"account_id\", \"date\", \"default_label\"]],\n",
    "    by=\"account_id\",\n",
    "    on=\"date\",\n",
    "    direction=\"backward\",\n",
    ")\n",
    "\n",
    "training_data[\"default_label\"] = (\n",
    "    training_data[\"default_label\"].fillna(0).astype(int)\n",
    ")"
   ]
  },
  {
   "cell_type": "markdown",
   "metadata": {},
   "source": [
    "### Sequence transformation"
   ]
  },
  {
   "cell_type": "code",
   "execution_count": 6,
   "metadata": {},
   "outputs": [
    {
     "name": "stdout",
     "output_type": "stream",
     "text": [
      "191556\n",
      "186907\n"
     ]
    }
   ],
   "source": [
    "# keep only data starting from 1994\n",
    "print(len(training_data))\n",
    "training_data = training_data.query(\n",
    "    \"date >= '1994-01-01'\"\n",
    ").copy()\n",
    "print(len(training_data))\n",
    "training_data.sort_values(\n",
    "    [\"account_id\", \"date\", \"trans_id\"], inplace=True\n",
    ")"
   ]
  },
  {
   "cell_type": "code",
   "execution_count": 7,
   "metadata": {},
   "outputs": [],
   "source": [
    "# calculate for each account ID difference in balance between two consecutive transactions\n",
    "training_data[\"balance_delta\"] = training_data.groupby(\n",
    "    \"account_id\"\n",
    ")[\"balance\"].diff()\n",
    "training_data[\"balance_delta\"] = np.where(\n",
    "    training_data[\"balance\"].isna(),\n",
    "    0,\n",
    "    training_data[\"balance\"],\n",
    ")"
   ]
  },
  {
   "cell_type": "code",
   "execution_count": 8,
   "metadata": {},
   "outputs": [
    {
     "data": {
      "text/plain": [
       "<Axes: xlabel='date'>"
      ]
     },
     "execution_count": 8,
     "metadata": {},
     "output_type": "execute_result"
    },
    {
     "data": {
      "image/png": "[encoded data removed]",
      "text/plain": [
       "<Figure size 640x480 with 1 Axes>"
      ]
     },
     "metadata": {},
     "output_type": "display_data"
    }
   ],
   "source": [
    "training_data.groupby(\"date\").agg(\n",
    "    {\"balance_delta\": \"mean\"}\n",
    ").plot()"
   ]
  },
  {
   "cell_type": "markdown",
   "metadata": {},
   "source": [
    "## RNN\n",
    "\n",
    "### Dataset Class (AccountSequenceDataset)\n",
    "\n",
    "**Purpose**: Prepares and handles sequences of transactions for each `account_id`.\n",
    "\n",
    "### Attributes:\n",
    "- `data`: The original dataset, grouped by `account_id`.\n",
    "- `max_sequence_length`: The maximum length of sequences.\n",
    "- `sequences`: A list of sequences (padded if shorter than `max_sequence_length`).\n",
    "- `labels`: The label (default or not) associated with each sequence.\n",
    "\n",
    "### Methods:\n",
    "- `__len__()`: Returns the number of sequences.\n",
    "- `__getitem__(idx)`: Returns a specific sequence and its label.\n",
    "\n",
    "### RNN Model (SequentialModel)\n",
    "\n",
    "**Purpose**: Processes the sequences and produces a prediction for each sequence.\n",
    "\n",
    "#### Attributes:\n",
    "- `input_size`: The number of input features (4 in this case: `amount`, `balance`, `amount_to_balance`, `balance_delta`).\n",
    "- `hidden_size`: The number of hidden units in the RNN.\n",
    "- `rnn`: The RNN layer which processes the sequences.\n",
    "- `dropout`: A dropout layer to prevent overfitting.\n",
    "- `fc`: A fully connected layer that produces the final output.\n",
    "\n",
    "#### Methods:\n",
    "- `forward(x)`: Defines the forward pass through the network."
   ]
  },
  {
   "cell_type": "code",
   "execution_count": 12,
   "metadata": {},
   "outputs": [
    {
     "name": "stdout",
     "output_type": "stream",
     "text": [
      "Epoch 0, Loss 0.7363\n",
      "Epoch 100, Loss 0.6588\n",
      "Epoch 200, Loss 0.6031\n",
      "Epoch 300, Loss 0.5445\n",
      "Epoch 400, Loss 0.5565\n",
      "Epoch 500, Loss 0.5206\n",
      "Epoch 600, Loss 0.4601\n",
      "Epoch 700, Loss 0.4603\n",
      "Epoch 800, Loss 0.4522\n",
      "Epoch 900, Loss 0.3951\n",
      "Epoch 1000, Loss 0.3733\n",
      "Epoch 1100, Loss 0.3282\n",
      "Epoch 1200, Loss 0.3096\n",
      "Epoch 1300, Loss 0.2506\n",
      "Epoch 1400, Loss 0.2576\n",
      "Epoch 1500, Loss 0.2856\n",
      "Epoch 1600, Loss 0.2363\n",
      "Epoch 1700, Loss 0.2767\n",
      "Epoch 1800, Loss 0.2715\n",
      "Epoch 1900, Loss 0.2391\n",
      "Epoch 2000, Loss 0.2496\n",
      "Epoch 2100, Loss 0.2374\n",
      "Epoch 2200, Loss 0.2183\n",
      "Epoch 2300, Loss 0.2010\n",
      "Epoch 2400, Loss 0.2507\n",
      "Epoch 2500, Loss 0.2472\n",
      "Epoch 2600, Loss 0.2232\n",
      "Epoch 2700, Loss 0.2281\n",
      "Epoch 2800, Loss 0.2277\n",
      "Epoch 2900, Loss 0.1953\n",
      "Epoch 3000, Loss 0.1919\n",
      "Epoch 3100, Loss 0.2103\n",
      "Epoch 3200, Loss 0.2020\n",
      "Epoch 3300, Loss 0.1881\n",
      "Epoch 3400, Loss 0.1958\n",
      "Epoch 3500, Loss 0.2073\n",
      "Epoch 3600, Loss 0.1971\n",
      "Epoch 3700, Loss 0.1758\n",
      "Epoch 3800, Loss 0.1888\n",
      "Epoch 3900, Loss 0.1290\n",
      "Epoch 4000, Loss 0.1716\n",
      "Epoch 4100, Loss 0.1693\n",
      "Epoch 4200, Loss 0.1481\n",
      "Epoch 4300, Loss 0.1840\n",
      "Epoch 4400, Loss 0.1388\n",
      "Epoch 4500, Loss 0.1594\n",
      "Epoch 4600, Loss 0.1314\n",
      "Epoch 4700, Loss 0.1468\n",
      "Epoch 4800, Loss 0.1635\n",
      "Epoch 4900, Loss 0.1913\n",
      "Gini: 59.84%\n"
     ]
    }
   ],
   "source": [
    "import torch\n",
    "import torch.nn as nn\n",
    "import numpy as np\n",
    "import pandas as pd\n",
    "from torch.utils.data import Dataset, DataLoader\n",
    "from sklearn.preprocessing import StandardScaler\n",
    "from sklearn.metrics import roc_auc_score\n",
    "from sklearn.model_selection import train_test_split\n",
    "\n",
    "torch.manual_seed(0)\n",
    "\n",
    "seq_id = \"account_id\"\n",
    "features = [\n",
    "    \"amount\",\n",
    "    \"balance\",\n",
    "    \"amount_to_balance\",\n",
    "    \"balance_delta\",\n",
    "]\n",
    "label = \"default_label\"\n",
    "\n",
    "\n",
    "# Define a custom Dataset class to handle sequences\n",
    "class AccountSequenceDataset(Dataset):\n",
    "    def __init__(\n",
    "        self,\n",
    "        data,\n",
    "        max_sequence_length=10,\n",
    "        seq_id=\"account_id\",\n",
    "    ):\n",
    "        self.data = data.groupby(seq_id)\n",
    "        self.max_sequence_length = max_sequence_length\n",
    "        self.sequences = []\n",
    "        self.labels = []\n",
    "        for _, group in self.data:\n",
    "            if len(group) > max_sequence_length:\n",
    "                sequence = group[features].values[\n",
    "                    :max_sequence_length\n",
    "                ]\n",
    "            else:\n",
    "                sequence = np.pad(\n",
    "                    group[features].values,\n",
    "                    (\n",
    "                        (\n",
    "                            0,\n",
    "                            max_sequence_length\n",
    "                            - len(group),\n",
    "                        ),\n",
    "                        (0, 0),\n",
    "                    ),\n",
    "                )\n",
    "            self.sequences.append(\n",
    "                torch.tensor(sequence, dtype=torch.float32)\n",
    "            )\n",
    "            self.labels.append(\n",
    "                torch.tensor(\n",
    "                    group[label].values[0],\n",
    "                    dtype=torch.float32,\n",
    "                )\n",
    "            )\n",
    "\n",
    "    def __len__(self):\n",
    "        return len(self.sequences)\n",
    "\n",
    "    def __getitem__(self, idx):\n",
    "        return self.sequences[idx], self.labels[idx]\n",
    "\n",
    "\n",
    "# Define the RNN model\n",
    "class SequentialModel(nn.Module):\n",
    "    def __init__(\n",
    "        self, input_size, hidden_size, num_classes\n",
    "    ):\n",
    "        super(SequentialModel, self).__init__()\n",
    "        self.hidden_size = hidden_size\n",
    "        self.rnn = nn.RNN(\n",
    "            input_size, hidden_size, batch_first=True\n",
    "        )\n",
    "        self.dropout = nn.Dropout(0.5)\n",
    "        self.fc = nn.Linear(hidden_size, num_classes)\n",
    "\n",
    "    def forward(self, x):\n",
    "        h0 = torch.zeros(1, x.size(0), self.hidden_size)\n",
    "        out, _ = self.rnn(x, h0)\n",
    "        out = self.dropout(out[:, -1, :])\n",
    "        out = self.fc(out)\n",
    "        return out\n",
    "\n",
    "\n",
    "# Prepare training and test datasets\n",
    "X = training_data[features]\n",
    "A = training_data[seq_id]\n",
    "y = training_data[label]\n",
    "\n",
    "training_data_df = pd.concat([X, y, A], axis=1)\n",
    "ix_train, ix_test = train_test_split(\n",
    "    training_data_df.index,\n",
    "    stratify=y,\n",
    "    test_size=0.3,\n",
    "    random_state=42,\n",
    ")\n",
    "\n",
    "training_data_train = training_data_df.loc[ix_train]\n",
    "training_data_test = training_data_df.loc[ix_test]\n",
    "\n",
    "# Perform feature scaling\n",
    "scaler = StandardScaler()\n",
    "training_data_train[features] = (\n",
    "    scaler.fit_transform(training_data_train[features]) * 50\n",
    ")\n",
    "training_data_test[features] = (\n",
    "    scaler.transform(training_data_test[features]) * 50\n",
    ")\n",
    "\n",
    "# Create datasets and dataloaders\n",
    "train_dataset = AccountSequenceDataset(training_data_train)\n",
    "test_dataset = AccountSequenceDataset(training_data_test)\n",
    "\n",
    "train_loader = DataLoader(\n",
    "    train_dataset, batch_size=100, shuffle=False\n",
    ")\n",
    "test_loader = DataLoader(\n",
    "    test_dataset, batch_size=100, shuffle=False\n",
    ")\n",
    "\n",
    "# Initialize model, criterion, and optimizer\n",
    "model = SequentialModel(\n",
    "    input_size=len(features), hidden_size=64, num_classes=1\n",
    ")\n",
    "criterion = nn.BCEWithLogitsLoss()\n",
    "optimizer = torch.optim.Adam(\n",
    "    model.parameters(), lr=1e-5, weight_decay=1e-5\n",
    ")\n",
    "\n",
    "# Training loop\n",
    "losses = []\n",
    "for epoch in range(5000):\n",
    "    model.train()\n",
    "    for X_batch, y_batch in train_loader:\n",
    "        optimizer.zero_grad()\n",
    "        outputs = model(X_batch).squeeze(1)\n",
    "        loss = criterion(outputs, y_batch)\n",
    "        loss.backward()\n",
    "        optimizer.step()\n",
    "        losses.append(loss.item())\n",
    "    if epoch % 100 == 0:\n",
    "        print(f\"Epoch {epoch}, Loss {loss.item():.4f}\")\n",
    "\n",
    "# Make inference on the test set\n",
    "model.eval()\n",
    "predictions = []\n",
    "true_labels = []\n",
    "with torch.no_grad():\n",
    "    for X_batch, y_batch in test_loader:\n",
    "        outputs = model(X_batch).squeeze(1)\n",
    "        predictions.extend(torch.sigmoid(outputs).numpy())\n",
    "        true_labels.extend(y_batch.numpy())\n",
    "\n",
    "# Calculate performance metric\n",
    "gini = 2 * roc_auc_score(true_labels, predictions) - 1\n",
    "print(f\"Gini: {gini:.2%}\")"
   ]
  },
  {
   "cell_type": "code",
   "execution_count": 13,
   "metadata": {},
   "outputs": [
    {
     "data": {
      "image/png": "[encoded data removed]",
      "text/plain": [
       "<Figure size 640x480 with 1 Axes>"
      ]
     },
     "metadata": {},
     "output_type": "display_data"
    }
   ],
   "source": [
    "from scipy.special import logit\n",
    "from matplotlib import pyplot as plt\n",
    "import seaborn as sns\n",
    "\n",
    "predictions = np.array(predictions)\n",
    "y_test = np.array(true_labels)\n",
    "\n",
    "common_kde_params = dict(\n",
    "    fill=True,\n",
    "    alpha=0.6,\n",
    "    linewidth=0.0,\n",
    "    bw_method=2.0,\n",
    "    bw_adjust=0.5,\n",
    ")\n",
    "sns.kdeplot(predictions[y_test == 0], label=\"Non-default\", color=\"#be4bdb\", **common_kde_params)  # type: ignore\n",
    "sns.kdeplot(predictions[y_test == 1], label=\"Default\", color=\"#fe3465\", **common_kde_params)  # type: ignore\n",
    "plt.axis(\"off\")\n",
    "plt.show()"
   ]
  }
 ],
 "metadata": {
  "kernelspec": {
   "display_name": "lr-focal-loss-Opjerf94-py3.10",
   "language": "python",
   "name": "python3"
  },
  "language_info": {
   "codemirror_mode": {
    "name": "ipython",
    "version": 3
   },
   "file_extension": ".py",
   "mimetype": "text/x-python",
   "name": "python",
   "nbconvert_exporter": "python",
   "pygments_lexer": "ipython3",
   "version": "3.10.12"
  }
 },
 "nbformat": 4,
 "nbformat_minor": 2
}
