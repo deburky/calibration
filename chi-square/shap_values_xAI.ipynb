{
 "cells": [
  {
   "cell_type": "markdown",
   "id": "b3e9de9c",
   "metadata": {},
   "source": [
    "## SHAP values\n",
    "\n",
    "<img src=\"https://cacm.acm.org/wp-content/uploads/2024/06/061724.RE_.Explainability-Is-Not.jpg?resize=2048,1152\" width=350>\n",
    "\n",
    "[***Explainability is Not a Game***](https://cacm.acm.org/research/explainability-is-not-a-game/)  \n",
    "*By Joao Marques-Silva and Xuanxiang Huang*\n",
    "> When the decisions of ML models impact people, one should expect explanations to offer the strongest guarantees of rigor. However, the most popular XAI approaches offer none.\n",
    "\n",
    "In this notebook we try to replicate some of the analyses from the paper. The input data is boolean and we're assessing the plausibility of SHAP values.\n",
    "\n",
    "Author: https://www.github.com/deburky"
   ]
  },
  {
   "cell_type": "code",
   "execution_count": 3,
   "id": "93ad7247",
   "metadata": {},
   "outputs": [
    {
     "name": "stderr",
     "output_type": "stream",
     "text": [
      "Using 1000 background data samples could cause slower run times. Consider using shap.sample(data, K) or shap.kmeans(data, K) to summarize the background as K samples.\n"
     ]
    },
    {
     "data": {
      "application/vnd.jupyter.widget-view+json": {
       "model_id": "6fbf028631fb4760874f537171704a09",
       "version_major": 2,
       "version_minor": 0
      },
      "text/plain": [
       "  0%|          | 0/1 [00:00<?, ?it/s]"
      ]
     },
     "metadata": {},
     "output_type": "display_data"
    },
    {
     "name": "stdout",
     "output_type": "stream",
     "text": [
      "SHAP values for instance 0 (KernelExplainer):\n",
      "  Feature  SHAP Value\n",
      "0      X1   -0.249012\n",
      "1      X2    0.131104\n",
      "2      X3    0.000000\n",
      "3      X4    0.000000\n"
     ]
    },
    {
     "data": {
      "image/png": "[encoded data removed]",
      "text/plain": [
       "<Figure size 800x350 with 1 Axes>"
      ]
     },
     "metadata": {
      "image/png": {
       "height": 336,
       "width": 677
      }
     },
     "output_type": "display_data"
    }
   ],
   "source": [
    "import numpy as np\n",
    "import pandas as pd\n",
    "import shap\n",
    "import xgboost as xgb\n",
    "from matplotlib import pyplot as plt\n",
    "\n",
    "%config InlineBackend.figure_format = 'retina'\n",
    "\n",
    "# Generate synthetic binary data\n",
    "np.random.seed(42)\n",
    "n_samples = 1000\n",
    "X = pd.DataFrame(\n",
    "    {\n",
    "        \"X1\": np.random.randint(0, 2, size=n_samples),\n",
    "        \"X2\": np.random.randint(0, 2, size=n_samples),\n",
    "        \"X3\": np.random.randint(0, 2, size=n_samples),\n",
    "        \"X4\": np.random.randint(0, 2, size=n_samples),\n",
    "    }\n",
    ")\n",
    "y = (X[\"X1\"] & X[\"X2\"]).astype(int)\n",
    "\n",
    "# Train XGBoost model\n",
    "model = xgb.XGBClassifier(n_estimators=10, max_depth=1, eval_metric=\"logloss\")\n",
    "model.fit(X, y)\n",
    "\n",
    "# Pick the instance to explain\n",
    "instance = X.iloc[[0]]\n",
    "\n",
    "\n",
    "# KernelExplainer (model-agnostic)\n",
    "def predict_fn(x):\n",
    "    return model.predict_proba(x)[:, 1]  # probability for class 1\n",
    "\n",
    "\n",
    "# Background dataset\n",
    "background = X.copy()\n",
    "\n",
    "explainer = shap.KernelExplainer(predict_fn, background)\n",
    "\n",
    "# Compute SHAP values for one instance\n",
    "shap_values = explainer.shap_values(instance)\n",
    "\n",
    "# Organize output\n",
    "shap_result = pd.DataFrame(\n",
    "    {\"Feature\": X.columns, \"SHAP Value\": shap_values[0]}\n",
    ").sort_values(by=\"SHAP Value\", key=abs, ascending=False)\n",
    "\n",
    "print(\"SHAP values for instance 0 (KernelExplainer):\")\n",
    "print(shap_result)\n",
    "\n",
    "plt.figure(figsize=(8, 3))\n",
    "shap.plots.bar(\n",
    "    shap.Explanation(values=shap_values[0], feature_names=X.columns.to_list()),\n",
    "    show=False,\n",
    ")\n",
    "plt.show()"
   ]
  },
  {
   "cell_type": "markdown",
   "id": "e1f589d3",
   "metadata": {},
   "source": [
    "## 🧮 Manual SHAP"
   ]
  },
  {
   "cell_type": "code",
   "execution_count": 6,
   "id": "d19f3bb0",
   "metadata": {},
   "outputs": [
    {
     "data": {
      "application/vnd.jupyter.widget-view+json": {
       "model_id": "7e80bdcf35fc4378b1baf2a4bf10b51a",
       "version_major": 2,
       "version_minor": 0
      },
      "text/plain": [
       "  0%|          | 0/4 [00:00<?, ?it/s]"
      ]
     },
     "metadata": {},
     "output_type": "display_data"
    }
   ],
   "source": [
    "import itertools\n",
    "import math\n",
    "\n",
    "import pandas as pd\n",
    "from tqdm.notebook import tqdm\n",
    "\n",
    "instance = X.iloc[0]\n",
    "features = list(X.columns)\n",
    "instance_dict = instance.to_dict()\n",
    "\n",
    "shap_values = {}\n",
    "\n",
    "for f in tqdm(features):\n",
    "    others = [x for x in features if x != f]\n",
    "    contrib = 0\n",
    "\n",
    "    for r in range(len(others) + 1):\n",
    "        for S in itertools.combinations(others, r):\n",
    "            S = set(S)\n",
    "            S_with_f = S | {f}\n",
    "\n",
    "            # Shapley weight\n",
    "            weight = (\n",
    "                math.factorial(len(S))\n",
    "                * math.factorial(len(features) - len(S) - 1)\n",
    "                / math.factorial(len(features))\n",
    "            )\n",
    "\n",
    "            # Estimate E[f(x) | S]\n",
    "            values_without_f = []\n",
    "            for _, row in X.iterrows():\n",
    "                test_row = row.copy()\n",
    "                for s in S:\n",
    "                    test_row[s] = instance_dict[s]\n",
    "                values_without_f.append(\n",
    "                    model.predict_proba(pd.DataFrame([test_row]))[0, 1]\n",
    "                )\n",
    "            E_without_f = sum(values_without_f) / len(values_without_f)\n",
    "\n",
    "            # Estimate E[f(x) | S ∪ {f}]\n",
    "            values_with_f = []\n",
    "            for _, row in X.iterrows():\n",
    "                test_row = row.copy()\n",
    "                for s in S_with_f:\n",
    "                    test_row[s] = instance_dict[s]\n",
    "                values_with_f.append(\n",
    "                    model.predict_proba(pd.DataFrame([test_row]))[0, 1]\n",
    "                )\n",
    "            E_with_f = sum(values_with_f) / len(values_with_f)\n",
    "\n",
    "            # Marginal contribution of f in context S\n",
    "            contrib += weight * (E_with_f - E_without_f)\n",
    "\n",
    "    shap_values[f] = contrib  # Calculate SHAP values"
   ]
  },
  {
   "cell_type": "code",
   "execution_count": 8,
   "id": "3aa59ca0",
   "metadata": {},
   "outputs": [
    {
     "name": "stdout",
     "output_type": "stream",
     "text": [
      "Manual SHAP values:\n",
      "X1: -0.249012\n",
      "X2: 0.131104\n",
      "X3: 0.000000\n",
      "X4: 0.000000\n",
      "\n",
      "KernelExplainer SHAP:\n",
      "X1: -0.249012\n",
      "X2: 0.131104\n",
      "X3: 0.000000\n",
      "X4: 0.000000\n"
     ]
    }
   ],
   "source": [
    "print(\"Manual SHAP values:\")\n",
    "for feat, val in sorted(shap_values.items(), key=lambda x: abs(x[1]), reverse=True):\n",
    "    print(f\"{feat}: {val:.6f}\")\n",
    "\n",
    "print(\"\\nKernelExplainer SHAP:\")\n",
    "for _, row in shap_result.iterrows():\n",
    "    print(f\"{row['Feature']}: {row['SHAP Value']:.6f}\")"
   ]
  },
  {
   "cell_type": "markdown",
   "id": "5dd9030a",
   "metadata": {},
   "source": [
    "## Single-factor SHAP\n",
    "\n",
    "To compute the SHAP value for X₂, we consider **all possible subsets** of the other features (X₁, X₃, X₄). For each subset, we evaluate how much **adding X₂** to that subset changes the model’s prediction.\n",
    "\n",
    "Each row below represents:\n",
    "- A context where a subset of features is already known (`subset`)\n",
    "- And the same context with X2 added (`subset+f`)\n",
    "\n",
    "This setup allows us to isolate the **marginal contribution of X₂** in every possible scenario.\n",
    "\n",
    "> For n total features, we have $2^{n - 1}$ rows (subset combinations) to evaluate for each feature's SHAP value, because we exclude the feature being explained and consider all subsets of the rest (in this case we have 8).\n",
    "\n",
    "| index | subset              | subset+f                    |\n",
    "|-------|---------------------|-----------------------------|\n",
    "| 0     | []                  | ['X2']                      |\n",
    "| 1     | ['X1']              | ['X1', 'X2']                |\n",
    "| 2     | ['X3']              | ['X3', 'X2']                |\n",
    "| 3     | ['X4']              | ['X4', 'X2']                |\n",
    "| 4     | ['X1', 'X3']        | ['X1', 'X3', 'X2']          |\n",
    "| 5     | ['X1', 'X4']        | ['X1', 'X4', 'X2']          |\n",
    "| 6     | ['X3', 'X4']        | ['X3', 'X4', 'X2']          |\n",
    "| 7     | ['X1', 'X3', 'X4']  | ['X1', 'X3', 'X4', 'X2']    |\n",
    "\n",
    "In each of these cases:\n",
    "\n",
    "- The model prediction is computed once using just the subset (with X₂ left to vary),\n",
    "- Then again with X₂ added and fixed to the instance value.\n",
    "- The **difference** in those predictions is the **effect of X₂ in that context**.\n",
    "\n",
    "Finally, all these effects are **averaged** (using Shapley weights) to give the overall SHAP value for X₂.\n",
    "\n",
    "This process guarantees that X₂ is evaluated **fairly across all possible combinations** of features it might interact with."
   ]
  },
  {
   "cell_type": "code",
   "execution_count": 11,
   "id": "7c576eed",
   "metadata": {},
   "outputs": [
    {
     "data": {
      "application/vnd.jupyter.widget-view+json": {
       "model_id": "2a8c90b466d243cbbc0118671961c0a7",
       "version_major": 2,
       "version_minor": 0
      },
      "text/plain": [
       "Calculating SHAP values:   0%|          | 0/1000 [00:00<?, ?it/s]"
      ]
     },
     "metadata": {},
     "output_type": "display_data"
    },
    {
     "data": {
      "application/vnd.jupyter.widget-view+json": {
       "model_id": "543a508f44174221a07edf99f0b5f9d3",
       "version_major": 2,
       "version_minor": 0
      },
      "text/plain": [
       "Calculating SHAP values:   0%|          | 0/1000 [00:00<?, ?it/s]"
      ]
     },
     "metadata": {},
     "output_type": "display_data"
    },
    {
     "data": {
      "application/vnd.jupyter.widget-view+json": {
       "model_id": "4f965e62a2ec4e3592f821eebb9f4c1b",
       "version_major": 2,
       "version_minor": 0
      },
      "text/plain": [
       "Calculating SHAP values:   0%|          | 0/1000 [00:00<?, ?it/s]"
      ]
     },
     "metadata": {},
     "output_type": "display_data"
    },
    {
     "data": {
      "application/vnd.jupyter.widget-view+json": {
       "model_id": "64054fcbbf0d4e8298da213d2e107efb",
       "version_major": 2,
       "version_minor": 0
      },
      "text/plain": [
       "Calculating SHAP values:   0%|          | 0/1000 [00:00<?, ?it/s]"
      ]
     },
     "metadata": {},
     "output_type": "display_data"
    },
    {
     "data": {
      "application/vnd.jupyter.widget-view+json": {
       "model_id": "90f4ecf377d147ad83861e67b22e6c4f",
       "version_major": 2,
       "version_minor": 0
      },
      "text/plain": [
       "Calculating SHAP values:   0%|          | 0/1000 [00:00<?, ?it/s]"
      ]
     },
     "metadata": {},
     "output_type": "display_data"
    },
    {
     "data": {
      "application/vnd.jupyter.widget-view+json": {
       "model_id": "e8953cf74d51485eb59dc474d48fb7a1",
       "version_major": 2,
       "version_minor": 0
      },
      "text/plain": [
       "Calculating SHAP values:   0%|          | 0/1000 [00:00<?, ?it/s]"
      ]
     },
     "metadata": {},
     "output_type": "display_data"
    },
    {
     "data": {
      "application/vnd.jupyter.widget-view+json": {
       "model_id": "04624fca35774085a2470b880072fe52",
       "version_major": 2,
       "version_minor": 0
      },
      "text/plain": [
       "Calculating SHAP values:   0%|          | 0/1000 [00:00<?, ?it/s]"
      ]
     },
     "metadata": {},
     "output_type": "display_data"
    },
    {
     "data": {
      "application/vnd.jupyter.widget-view+json": {
       "model_id": "7b5f34b0277040948dc61b9e461444cd",
       "version_major": 2,
       "version_minor": 0
      },
      "text/plain": [
       "Calculating SHAP values:   0%|          | 0/1000 [00:00<?, ?it/s]"
      ]
     },
     "metadata": {},
     "output_type": "display_data"
    },
    {
     "name": "stdout",
     "output_type": "stream",
     "text": [
      "\n",
      "SHAP value for feature 'X2': 0.1311\n"
     ]
    }
   ],
   "source": [
    "import itertools\n",
    "from math import factorial\n",
    "\n",
    "import numpy as np\n",
    "import pandas as pd\n",
    "\n",
    "# Assume model and X are defined already\n",
    "instance = X.iloc[0]\n",
    "instance_dict = instance.to_dict()\n",
    "feature_to_explain = \"X2\"\n",
    "features = list(X.columns)\n",
    "other_features = [f for f in features if f != feature_to_explain]\n",
    "\n",
    "shap_value = 0\n",
    "records = []  # Store contributions from each subset\n",
    "\n",
    "\n",
    "def shap_weight(s, n):\n",
    "    \"\"\"SHAP weights.\"\"\"\n",
    "    return factorial(len(s)) * factorial(n - len(s) - 1) / factorial(n)\n",
    "\n",
    "\n",
    "for subset in itertools.chain.from_iterable(\n",
    "    itertools.combinations(other_features, r) for r in range(len(other_features) + 1)\n",
    "):  # Get possible subsets\n",
    "    subset = list(subset)  # Convert subset to list\n",
    "    weight = shap_weight(subset, len(features))  # Calculate SHAP weight\n",
    "\n",
    "    preds_without_f = []  # Predictions without feature of interest\n",
    "    preds_with_f = []  # Predictions with feature of interest\n",
    "\n",
    "    for _, row in tqdm(X.iterrows(), desc=\"Calculating SHAP values\", total=len(X)):\n",
    "        # Without f: fix only features in subset\n",
    "        row_without_f = row.copy()\n",
    "        row_without_f.update(\n",
    "            {k: instance_dict[k] for k in subset}\n",
    "        )  # Replace values from instance dict\n",
    "        pred_without_f = model.predict_proba(pd.DataFrame([row_without_f]))[\n",
    "            0, 1\n",
    "        ]  # Make inference (class 1 membership probability)\n",
    "        preds_without_f.append(pred_without_f)\n",
    "\n",
    "        # With f: fix both the subset and f\n",
    "        row_with_f = row.copy()\n",
    "        subset_with_f = [*subset, feature_to_explain]\n",
    "        row_with_f.update(\n",
    "            {k: instance_dict[k] for k in subset_with_f}\n",
    "        )  # Replace values from instance dict\n",
    "\n",
    "        pred_with_f = model.predict_proba(pd.DataFrame([row_with_f]))[\n",
    "            0, 1\n",
    "        ]  # Make inference (class 1 membership probability)\n",
    "        preds_with_f.append(pred_with_f)\n",
    "\n",
    "    E_without_f = np.mean(preds_without_f)\n",
    "    E_with_f = np.mean(preds_with_f)\n",
    "    delta = E_with_f - E_without_f\n",
    "    shap_value += weight * delta\n",
    "\n",
    "    # Store for later analysis\n",
    "    records.append(\n",
    "        {\n",
    "            \"subset\": subset,\n",
    "            \"subset+f\": [*subset, feature_to_explain],\n",
    "            \"E_without_f\": E_without_f,\n",
    "            \"E_with_f\": E_with_f,\n",
    "            \"delta\": delta,\n",
    "            \"weight\": weight,\n",
    "            \"weighted_delta\": weight * delta,\n",
    "        }\n",
    "    )\n",
    "\n",
    "# Convert to DataFrame for analysis\n",
    "results_df = pd.DataFrame(records)\n",
    "\n",
    "# Print SHAP value and show table\n",
    "print(f\"\\nSHAP value for feature '{feature_to_explain}': {shap_value:.4f}\")"
   ]
  },
  {
   "cell_type": "code",
   "execution_count": 12,
   "id": "79c87bbb",
   "metadata": {},
   "outputs": [
    {
     "data": {
      "text/plain": [
       "{'X1': 0, 'X2': 1, 'X3': 0, 'X4': 1}"
      ]
     },
     "metadata": {},
     "output_type": "display_data"
    },
    {
     "data": {
      "text/html": [
       "<div>\n",
       "<style scoped>\n",
       "    .dataframe tbody tr th:only-of-type {\n",
       "        vertical-align: middle;\n",
       "    }\n",
       "\n",
       "    .dataframe tbody tr th {\n",
       "        vertical-align: top;\n",
       "    }\n",
       "\n",
       "    .dataframe thead th {\n",
       "        text-align: right;\n",
       "    }\n",
       "</style>\n",
       "<table border=\"1\" class=\"dataframe\">\n",
       "  <thead>\n",
       "    <tr style=\"text-align: right;\">\n",
       "      <th></th>\n",
       "      <th>subset</th>\n",
       "      <th>subset+f</th>\n",
       "      <th>E_without_f</th>\n",
       "      <th>E_with_f</th>\n",
       "      <th>delta</th>\n",
       "      <th>weight</th>\n",
       "      <th>weighted_delta</th>\n",
       "    </tr>\n",
       "  </thead>\n",
       "  <tbody>\n",
       "    <tr>\n",
       "      <th>0</th>\n",
       "      <td>[]</td>\n",
       "      <td>[X2]</td>\n",
       "      <td>0.250260</td>\n",
       "      <td>0.446951</td>\n",
       "      <td>0.196692</td>\n",
       "      <td>0.250000</td>\n",
       "      <td>0.049173</td>\n",
       "    </tr>\n",
       "    <tr>\n",
       "      <th>1</th>\n",
       "      <td>[X1]</td>\n",
       "      <td>[X1, X2]</td>\n",
       "      <td>0.066835</td>\n",
       "      <td>0.132351</td>\n",
       "      <td>0.065516</td>\n",
       "      <td>0.083333</td>\n",
       "      <td>0.005460</td>\n",
       "    </tr>\n",
       "    <tr>\n",
       "      <th>2</th>\n",
       "      <td>[X3]</td>\n",
       "      <td>[X3, X2]</td>\n",
       "      <td>0.250260</td>\n",
       "      <td>0.446951</td>\n",
       "      <td>0.196692</td>\n",
       "      <td>0.083333</td>\n",
       "      <td>0.016391</td>\n",
       "    </tr>\n",
       "    <tr>\n",
       "      <th>3</th>\n",
       "      <td>[X4]</td>\n",
       "      <td>[X4, X2]</td>\n",
       "      <td>0.250260</td>\n",
       "      <td>0.446951</td>\n",
       "      <td>0.196692</td>\n",
       "      <td>0.083333</td>\n",
       "      <td>0.016391</td>\n",
       "    </tr>\n",
       "    <tr>\n",
       "      <th>4</th>\n",
       "      <td>[X1, X3]</td>\n",
       "      <td>[X1, X3, X2]</td>\n",
       "      <td>0.066835</td>\n",
       "      <td>0.132351</td>\n",
       "      <td>0.065516</td>\n",
       "      <td>0.083333</td>\n",
       "      <td>0.005460</td>\n",
       "    </tr>\n",
       "    <tr>\n",
       "      <th>5</th>\n",
       "      <td>[X1, X4]</td>\n",
       "      <td>[X1, X4, X2]</td>\n",
       "      <td>0.066835</td>\n",
       "      <td>0.132351</td>\n",
       "      <td>0.065516</td>\n",
       "      <td>0.083333</td>\n",
       "      <td>0.005460</td>\n",
       "    </tr>\n",
       "    <tr>\n",
       "      <th>6</th>\n",
       "      <td>[X3, X4]</td>\n",
       "      <td>[X3, X4, X2]</td>\n",
       "      <td>0.250260</td>\n",
       "      <td>0.446951</td>\n",
       "      <td>0.196692</td>\n",
       "      <td>0.083333</td>\n",
       "      <td>0.016391</td>\n",
       "    </tr>\n",
       "    <tr>\n",
       "      <th>7</th>\n",
       "      <td>[X1, X3, X4]</td>\n",
       "      <td>[X1, X3, X4, X2]</td>\n",
       "      <td>0.066835</td>\n",
       "      <td>0.132351</td>\n",
       "      <td>0.065516</td>\n",
       "      <td>0.250000</td>\n",
       "      <td>0.016379</td>\n",
       "    </tr>\n",
       "  </tbody>\n",
       "</table>\n",
       "</div>"
      ],
      "text/plain": [
       "         subset          subset+f  E_without_f  E_with_f     delta    weight  \\\n",
       "0            []              [X2]     0.250260  0.446951  0.196692  0.250000   \n",
       "1          [X1]          [X1, X2]     0.066835  0.132351  0.065516  0.083333   \n",
       "2          [X3]          [X3, X2]     0.250260  0.446951  0.196692  0.083333   \n",
       "3          [X4]          [X4, X2]     0.250260  0.446951  0.196692  0.083333   \n",
       "4      [X1, X3]      [X1, X3, X2]     0.066835  0.132351  0.065516  0.083333   \n",
       "5      [X1, X4]      [X1, X4, X2]     0.066835  0.132351  0.065516  0.083333   \n",
       "6      [X3, X4]      [X3, X4, X2]     0.250260  0.446951  0.196692  0.083333   \n",
       "7  [X1, X3, X4]  [X1, X3, X4, X2]     0.066835  0.132351  0.065516  0.250000   \n",
       "\n",
       "   weighted_delta  \n",
       "0        0.049173  \n",
       "1        0.005460  \n",
       "2        0.016391  \n",
       "3        0.016391  \n",
       "4        0.005460  \n",
       "5        0.005460  \n",
       "6        0.016391  \n",
       "7        0.016379  "
      ]
     },
     "metadata": {},
     "output_type": "display_data"
    },
    {
     "name": "stdout",
     "output_type": "stream",
     "text": [
      "0.13110365718603134\n",
      "1.0\n"
     ]
    }
   ],
   "source": [
    "display(instance_dict, results_df)\n",
    "print(results_df[\"weighted_delta\"].sum())\n",
    "print(results_df[\"weight\"].sum())"
   ]
  },
  {
   "cell_type": "markdown",
   "id": "59436312",
   "metadata": {},
   "source": [
    "| index | subset              | subset+f                    |\n",
    "|-------|---------------------|-----------------------------|\n",
    "| 5     | ['X1', 'X4']        | ['X1', 'X4', 'X2']          |\n",
    "\n",
    "We’re explaining X₂:\n",
    "\n",
    "- *`E_without_f`*: Fix X₁ and X₄ to instance values; let X₂, X₃ vary.\n",
    "- *`E_with_f`*: Also fix X₂; now only X₃ varies.\n",
    "\n",
    "---\n",
    "**What are the SHAP weights?**\n",
    "\n",
    "*Row 0:*  \n",
    "- *Subset:* [] (empty)  \n",
    "- *Subset size:* $|S| = 0$\n",
    "\n",
    "$$w(S) = \\frac{0! \\cdot (4 - 0 - 1)!}{4!} = \\frac{1 \\cdot 6}{24} = 0.25$$\n",
    "\n",
    "*Row 7:** \n",
    "- *Subset:* [X₁, X₃, X₄] \n",
    "- *Subset size:* $|S| = 3$\n",
    "\n",
    "$$w(S) = \\frac{3! \\cdot (4 - 3 - 1)!}{4!} = \\frac{6 \\cdot 1}{24} = 0.25$$"
   ]
  },
  {
   "cell_type": "markdown",
   "id": "2769281c",
   "metadata": {},
   "source": [
    "## \"Explainability is Not a Game\" problem setup\n",
    "\n",
    "> “Shapley values are calculated based on the structure of the model, and not necessarily on the causal or logical relevance of the features.”  \n",
    "> — *Explainability is Not a Game*, Section 3.1\n",
    "\n",
    "> “SHAP values may attribute **importance to features that are not logically required**, and may assign **zero importance to features that are logically essential**.”  \n",
    "> — *Explainability is Not a Game*, Section 3.2\n",
    "\n",
    "We consider a case from this paper:\n",
    "\n",
    "* X₁ is not sufficient alone to determine the prediction\n",
    "* The true logic requires both X₁ = 1 and X₂ = 1 to make y = 1\n",
    "* So both X₁ and X₂ should be relevant for the prediction y = 0\n",
    "\n",
    "But SHAP gave all the credit (blame) to X₁, and none to X₂."
   ]
  },
  {
   "cell_type": "code",
   "execution_count": 13,
   "id": "4f6461d7",
   "metadata": {},
   "outputs": [
    {
     "name": "stdout",
     "output_type": "stream",
     "text": [
      "SHAP values for instance (0, 0, 0, 0):\n",
      "  Feature  SHAP Value\n",
      "0      X1       -0.24\n",
      "1      X2        0.00\n",
      "2      X3        0.00\n",
      "3      X4        0.00\n"
     ]
    }
   ],
   "source": [
    "import itertools\n",
    "\n",
    "import pandas as pd\n",
    "import shap\n",
    "import xgboost as xgb\n",
    "\n",
    "# 1. Generate full boolean input space (2^4 = 16 combinations)\n",
    "X = pd.DataFrame(itertools.product([0, 1], repeat=4), columns=[\"X1\", \"X2\", \"X3\", \"X4\"])\n",
    "\n",
    "# 2. Define target: y = X1 AND X2\n",
    "y = (X[\"X1\"] & X[\"X2\"]).astype(int)\n",
    "\n",
    "# 3. Train a shallow tree model\n",
    "model = xgb.XGBClassifier(\n",
    "    n_estimators=1,\n",
    "    max_depth=2,\n",
    "    eval_metric=\"logloss\",\n",
    ")\n",
    "model.fit(X, y)\n",
    "\n",
    "# 4. Pick instance to explain\n",
    "instance = pd.DataFrame([[0, 0, 0, 0]], columns=X.columns)\n",
    "\n",
    "# 5. Use TreeExplainer (this is where issues appear)\n",
    "explainer = shap.TreeExplainer(model)\n",
    "shap_values = explainer.shap_values(instance)\n",
    "\n",
    "# 6. Display results\n",
    "shap_df = pd.DataFrame(\n",
    "    {\"Feature\": X.columns, \"SHAP Value\": shap_values[0]}\n",
    ").sort_values(by=\"SHAP Value\", key=abs, ascending=False)\n",
    "\n",
    "print(\"SHAP values for instance (0, 0, 0, 0):\")\n",
    "print(shap_df)\n"
   ]
  },
  {
   "cell_type": "markdown",
   "id": "f305c0c4",
   "metadata": {},
   "source": [
    "```python\n",
    "print(model.get_booster().get_dump()[0])\n",
    "```\n",
    "```plain\n",
    "0:[X1<1] yes=1,no=2,missing=2\n",
    "\t1:leaf=-0.250868887\n",
    "\t2:leaf=0.215531722\n",
    "```\n",
    "\n",
    "---\n",
    "This is an example of the \"faithfulness vs correctness\" tradeoff:\n",
    "\n",
    "* TreeSHAP explains what the model does\n",
    "* But what the model does might be causally wrong or logically incomplete\n",
    "\n",
    "SHAP is mathematically fair given the model, but if the model fails to use important features, SHAP will amplify that mistake in its attributions."
   ]
  },
  {
   "cell_type": "code",
   "execution_count": 15,
   "id": "59a327be",
   "metadata": {},
   "outputs": [
    {
     "data": {
      "application/vnd.jupyter.widget-view+json": {
       "model_id": "a227a0594a224f89bbbcea94fd52e6ce",
       "version_major": 2,
       "version_minor": 0
      },
      "text/plain": [
       "  0%|          | 0/1 [00:00<?, ?it/s]"
      ]
     },
     "metadata": {},
     "output_type": "display_data"
    },
    {
     "name": "stdout",
     "output_type": "stream",
     "text": [
      "SHAP values for instance 0 (KernelExplainer):\n",
      "  Feature  SHAP Value\n",
      "0      X1   -0.044946\n",
      "1      X2    0.000000\n",
      "2      X3    0.000000\n",
      "3      X4    0.000000\n"
     ]
    },
    {
     "data": {
      "image/png": "[encoded data removed]",
      "text/plain": [
       "<Figure size 800x350 with 1 Axes>"
      ]
     },
     "metadata": {
      "image/png": {
       "height": 336,
       "width": 676
      }
     },
     "output_type": "display_data"
    }
   ],
   "source": [
    "# KernelExplainer (model-agnostic)\n",
    "def predict_fn(x):\n",
    "    return model.predict_proba(x)[:, 1]  # probability for class 1\n",
    "\n",
    "\n",
    "# Background dataset\n",
    "background = X.copy()\n",
    "explainer = shap.KernelExplainer(predict_fn, background)\n",
    "shap_values = explainer.shap_values(instance)\n",
    "\n",
    "# Organize output\n",
    "shap_result = pd.DataFrame(\n",
    "    {\"Feature\": X.columns, \"SHAP Value\": shap_values[0]}\n",
    ").sort_values(by=\"SHAP Value\", key=abs, ascending=False)\n",
    "\n",
    "print(\"SHAP values for instance 0 (KernelExplainer):\")\n",
    "print(shap_result)\n",
    "\n",
    "plt.figure(figsize=(8, 3))\n",
    "shap.plots.bar(\n",
    "    shap.Explanation(values=shap_values[0], feature_names=X.columns.to_list()),\n",
    "    show=False,\n",
    ")\n",
    "plt.show()"
   ]
  },
  {
   "cell_type": "markdown",
   "id": "595c74d8",
   "metadata": {},
   "source": [
    "## Bonus: Stack overflow example with `iml`\n",
    "\n",
    "The Shapley value ($\\phi_i$) represents the contribution of each respective variable towards the predicted valued compared to the average prediction for the data set.\n",
    "\n",
    "`iml` implements an approximate Shapley estimation algorithm that follows the following steps:\n",
    "\n",
    "```python\n",
    "ob = single observation of interest\n",
    "1: for variables j in {1,...,p} do\n",
    "     | m = random sample from data set\n",
    "     | t = rbind(m, ob)\n",
    "     | f(all) = compute predictions for t\n",
    "     | f(!j) = compute predictions for t with feature j values randomized\n",
    "     | diff = sum(f(all) - f(!j))\n",
    "     | phi = mean(diff)\n",
    "   end\n",
    "2. sort phi in decreasing order\n",
    "```\n",
    "\n",
    "* [How to calculate SHAP for a factor in a linear model?](https://stats.stackexchange.com/questions/568239/how-to-calculate-shap-for-a-factor-in-a-linear-model)\n",
    "* [Interpreting Machine Learning Models with the iml Package](https://uc-r.github.io/iml-pkg)"
   ]
  },
  {
   "cell_type": "code",
   "execution_count": 16,
   "id": "41443c92",
   "metadata": {},
   "outputs": [
    {
     "data": {
      "application/vnd.jupyter.widget-view+json": {
       "model_id": "10e1c5302a6b4ac7a19a34d4ae2edebc",
       "version_major": 2,
       "version_minor": 0
      },
      "text/plain": [
       "  0%|          | 0/60 [00:00<?, ?it/s]"
      ]
     },
     "metadata": {},
     "output_type": "display_data"
    },
    {
     "name": "stdout",
     "output_type": "stream",
     "text": [
      "       feature       phi    phi_var  feature_value\n",
      "suppVC  suppVC -1.850000   3.422500            1.0\n",
      "dose      dose -6.509048  37.071738            0.5\n",
      "SuppVC Effect (should match R's -1.85): -1.85\n"
     ]
    }
   ],
   "source": [
    "import numpy as np\n",
    "import pandas as pd\n",
    "import shap\n",
    "from sklearn.linear_model import LinearRegression\n",
    "from sklearn.preprocessing import OneHotEncoder\n",
    "\n",
    "# 1. Load dataset\n",
    "data = pd.read_csv(\n",
    "    \"https://vincentarelbundock.github.io/Rdatasets/csv/datasets/ToothGrowth.csv\"\n",
    ")\n",
    "\n",
    "# 2. Handle categorical variable correctly\n",
    "encoder = OneHotEncoder(\n",
    "    drop=\"first\", sparse_output=False\n",
    ")  # Drop first category to match R (i.e., suppVC)\n",
    "encoded_supp = encoder.fit_transform(data[[\"supp\"]])\n",
    "\n",
    "# Replace supp column with one-hot encoding\n",
    "X = np.hstack([encoded_supp, data[[\"dose\"]].values])\n",
    "X = pd.DataFrame(X, columns=[\"suppVC\", \"dose\"])  # Rename to match R variable\n",
    "\n",
    "y = data[\"len\"]\n",
    "\n",
    "# 3. Train a linear regression model\n",
    "mod_lm = LinearRegression()\n",
    "mod_lm.fit(X, y)\n",
    "\n",
    "# 4. Compute SHAP values using KernelExplainer (equivalent to R `iml::Shapley`)\n",
    "explainer = shap.KernelExplainer(mod_lm.predict, X)\n",
    "shap_values = explainer.shap_values(X)\n",
    "\n",
    "# 5. Store SHAP values in a DataFrame\n",
    "shap_df = pd.DataFrame(\n",
    "    {\n",
    "        \"feature\": X.columns,\n",
    "        \"phi\": shap_values.min(axis=0),\n",
    "        \"phi_var\": shap_values.var(axis=0),\n",
    "        \"feature_value\": X.mean(),\n",
    "    }\n",
    ")\n",
    "\n",
    "# Compute SHAP only for row interest\n",
    "shap_values_int = explainer.shap_values(X.iloc[0, :])\n",
    "shap_df_int = pd.DataFrame(\n",
    "    {\n",
    "        \"feature\": X.columns,\n",
    "        \"phi\": shap_values_int,\n",
    "        \"phi_var\": shap_values.var(axis=0),\n",
    "        \"feature_value\": X.iloc[0, :],\n",
    "    }\n",
    ")\n",
    "\n",
    "print(shap_df_int)\n",
    "\n",
    "# Head of results:\n",
    "# feature       phi   phi.var feature.value\n",
    "# 1    supp -1.848816  3.422533       supp=VC\n",
    "# 2    dose -6.489162 37.185843      dose=0.5\n",
    "# 6. Verify R's SHAP computation for `supp`\n",
    "\n",
    "supp_effect = (1 - np.mean(data[\"supp\"] == \"VC\")) * mod_lm.coef_[0]\n",
    "print(f\"SuppVC Effect (should match R's -1.85): {supp_effect:.2f}\")"
   ]
  }
 ],
 "metadata": {
  "kernelspec": {
   "display_name": ".venv",
   "language": "python",
   "name": "python3"
  },
  "language_info": {
   "codemirror_mode": {
    "name": "ipython",
    "version": 3
   },
   "file_extension": ".py",
   "mimetype": "text/x-python",
   "name": "python",
   "nbconvert_exporter": "python",
   "pygments_lexer": "ipython3",
   "version": "3.11.8"
  }
 },
 "nbformat": 4,
 "nbformat_minor": 5
}
